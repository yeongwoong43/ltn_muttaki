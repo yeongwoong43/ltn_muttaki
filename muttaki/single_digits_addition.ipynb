{
 "cells": [
  {
   "attachments": {},
   "cell_type": "markdown",
   "metadata": {},
   "source": [
    "* 일단 코드 무작정 따라가기\n",
    "  \n",
    "        single_digits_addition.ipynb"
   ]
  },
  {
   "cell_type": "code",
   "execution_count": 4,
   "metadata": {},
   "outputs": [],
   "source": [
    "import tensorflow as tf\n",
    "import ltn\n",
    "import baselines, data, commons\n",
    "import matplotlib.pyplot as plt"
   ]
  },
  {
   "cell_type": "code",
   "execution_count": 5,
   "metadata": {},
   "outputs": [
    {
     "name": "stdout",
     "output_type": "stream",
     "text": [
      "Result label is 16\n"
     ]
    },
    {
     "data": {
      "image/png": "[encoded data removed]",
      "text/plain": [
       "<Figure size 640x480 with 2 Axes>"
      ]
     },
     "metadata": {},
     "output_type": "display_data"
    }
   ],
   "source": [
    "ds_train, ds_test = data.get_mnist_op_dataset(\n",
    "    count_train=3000,\n",
    "    count_test=1000,\n",
    "    buffer_size=3000,\n",
    "    batch_size=16,\n",
    "    n_operands=2,\n",
    "    op=lambda args: args[0]+args[1]\n",
    ")\n",
    "\n",
    "x, y, z = next(ds_train.as_numpy_iterator())\n",
    "plt.subplot(121)\n",
    "plt.imshow(x[0][:,:,0])\n",
    "plt.subplot(122)\n",
    "plt.imshow(y[0][:,:,0])\n",
    "print(\"Result label is %i\" % z[0])"
   ]
  },
  {
   "cell_type": "code",
   "execution_count": 6,
   "metadata": {},
   "outputs": [],
   "source": [
    "logits_model = baselines.SingleDigit(inputs_as_a_list=True)\n",
    "Digit = ltn.Predicate.FromLogits(logits_model, activation_function=\"softmax\")\n",
    "\n",
    "d1 = ltn.Variable(\"digits1\", range(10))\n",
    "d2 = ltn.Variable(\"digits2\", range(10))\n",
    "\n",
    "Not = ltn.Wrapper_Connective(ltn.fuzzy_ops.Not_Std())\n",
    "And = ltn.Wrapper_Connective(ltn.fuzzy_ops.And_Prod())\n",
    "Or = ltn.Wrapper_Connective(ltn.fuzzy_ops.Or_ProbSum())\n",
    "Implies = ltn.Wrapper_Connective(ltn.fuzzy_ops.Implies_Reichenbach())\n",
    "Forall = ltn.Wrapper_Quantifier(ltn.fuzzy_ops.Aggreg_pMeanError(), semantics=\"forall\")\n",
    "Exists = ltn.Wrapper_Quantifier(ltn.fuzzy_ops.Aggreg_pMean(), semantics=\"exists\")"
   ]
  },
  {
   "cell_type": "code",
   "execution_count": 7,
   "metadata": {},
   "outputs": [
    {
     "data": {
      "text/plain": [
       "<tf.Tensor: shape=(), dtype=float32, numpy=0.010969818>"
      ]
     },
     "execution_count": 7,
     "metadata": {},
     "output_type": "execute_result"
    }
   ],
   "source": [
    "add = ltn.Function.Lambda(lambda inputs: inputs[0]+inputs[1])\n",
    "equals = ltn.Predicate.Lambda(lambda inputs: inputs[0] == inputs[1])\n",
    "\n",
    "@tf.function\n",
    "def axioms(images_x, images_y, labels_z, p_schedule=tf.constant(2.)):\n",
    "    images_x = ltn.Variable(\"x\", images_x)\n",
    "    images_y = ltn.Variable(\"y\", images_y)\n",
    "    labels_z = ltn.Variable(\"z\", labels_z)\n",
    "    axiom = Forall(\n",
    "            ltn.diag(images_x, images_y, labels_z),\n",
    "            Exists(\n",
    "                (d1, d2),\n",
    "                And(Digit([images_x, d1]), Digit([images_y, d2])),\n",
    "                mask=equals([add([d1, d2]), labels_z]),\n",
    "                p=p_schedule\n",
    "            ),\n",
    "            p=2\n",
    "    )\n",
    "    sat = axiom.tensor\n",
    "    return sat\n",
    "\n",
    "images_x, images_y, labels_z = next(ds_train.as_numpy_iterator())\n",
    "axioms(images_x, images_y, labels_z)"
   ]
  },
  {
   "cell_type": "code",
   "execution_count": 8,
   "metadata": {},
   "outputs": [],
   "source": [
    "optimizer = tf.keras.optimizers.Adam(0.001)\n",
    "metrics_dict = {\n",
    "    'train_loss': tf.keras.metrics.Mean(name=\"train_loss\"),\n",
    "    'train_accuracy': tf.keras.metrics.Mean(name=\"train_accuracy\"),\n",
    "    'test_loss': tf.keras.metrics.Mean(name=\"test_loss\"),\n",
    "    'test_accuracy': tf.keras.metrics.Mean(name=\"test_accuracy\")\n",
    "}\n",
    "\n",
    "@tf.function\n",
    "def train_step(images_x, images_y, labels_z, **parameters):\n",
    "    # loss\n",
    "    with tf.GradientTape() as tape:\n",
    "        loss = 1. - axioms(images_x, images_y, labels_z, **parameters)\n",
    "    gradients = tape.gradient(loss, logits_model.trainable_variables)\n",
    "    optimizer.apply_gradients(zip(gradients, logits_model.trainable_variables))\n",
    "    metrics_dict['train_loss'](loss)\n",
    "\n",
    "    # accuracy\n",
    "    predictions_x = tf.argmax(logits_model([images_x]), axis=-1)\n",
    "    predictions_y = tf.argmax(logits_model([images_y]), axis=-1)\n",
    "    predictions_z = predictions_x + predictions_y\n",
    "    match = tf.equal(predictions_z, tf.cast(labels_z, predictions_z.dtype))\n",
    "    metrics_dict['train_accuracy'](tf.reduce_mean(tf.cast(match, tf.float32)))\n",
    "\n",
    "@tf.function\n",
    "def test_step(images_x, images_y, labels_z, **parameters):\n",
    "    # loss\n",
    "    loss = 1.-axioms(images_x, images_y, labels_z, **parameters)\n",
    "    metrics_dict['test_loss'](loss)\n",
    "\n",
    "    # accuracy\n",
    "    predictions_x = tf.argmax(logits_model([images_x]), axis=-1)\n",
    "    predictions_y = tf.argmax(logits_model([images_y]), axis=-1)\n",
    "    predictions_z = predictions_x + predictions_y\n",
    "    match = tf.equal(predictions_z, tf.cast(labels_z, predictions_z.dtype))\n",
    "    metrics_dict['test_accuracy'](tf.reduce_mean(tf.cast(match, tf.float32)))"
   ]
  },
  {
   "cell_type": "code",
   "execution_count": 9,
   "metadata": {},
   "outputs": [],
   "source": [
    "from collections import defaultdict\n",
    "\n",
    "scheduled_parameters = defaultdict(lambda: {})\n",
    "for epoch in range(0, 4):\n",
    "    scheduled_parameters[epoch] = {\"p_schedule\": tf.constant(1.)}\n",
    "for epoch in range(4, 8):\n",
    "    scheduled_parameters[epoch] = {\"p_schedule\": tf.constant(2.)}\n",
    "for epoch in range(8, 12):\n",
    "    scheduled_parameters[epoch] = {\"p_schedule\": tf.constant(4.)}\n",
    "for epoch in range(12, 20):\n",
    "    scheduled_parameters[epoch] = {\"p_schedule\": tf.constant(6.)}"
   ]
  },
  {
   "cell_type": "code",
   "execution_count": 10,
   "metadata": {},
   "outputs": [
    {
     "data": {
      "text/plain": [
       "defaultdict(<function __main__.<lambda>()>,\n",
       "            {0: {'p_schedule': <tf.Tensor: shape=(), dtype=float32, numpy=1.0>},\n",
       "             1: {'p_schedule': <tf.Tensor: shape=(), dtype=float32, numpy=1.0>},\n",
       "             2: {'p_schedule': <tf.Tensor: shape=(), dtype=float32, numpy=1.0>},\n",
       "             3: {'p_schedule': <tf.Tensor: shape=(), dtype=float32, numpy=1.0>},\n",
       "             4: {'p_schedule': <tf.Tensor: shape=(), dtype=float32, numpy=2.0>},\n",
       "             5: {'p_schedule': <tf.Tensor: shape=(), dtype=float32, numpy=2.0>},\n",
       "             6: {'p_schedule': <tf.Tensor: shape=(), dtype=float32, numpy=2.0>},\n",
       "             7: {'p_schedule': <tf.Tensor: shape=(), dtype=float32, numpy=2.0>},\n",
       "             8: {'p_schedule': <tf.Tensor: shape=(), dtype=float32, numpy=4.0>},\n",
       "             9: {'p_schedule': <tf.Tensor: shape=(), dtype=float32, numpy=4.0>},\n",
       "             10: {'p_schedule': <tf.Tensor: shape=(), dtype=float32, numpy=4.0>},\n",
       "             11: {'p_schedule': <tf.Tensor: shape=(), dtype=float32, numpy=4.0>},\n",
       "             12: {'p_schedule': <tf.Tensor: shape=(), dtype=float32, numpy=6.0>},\n",
       "             13: {'p_schedule': <tf.Tensor: shape=(), dtype=float32, numpy=6.0>},\n",
       "             14: {'p_schedule': <tf.Tensor: shape=(), dtype=float32, numpy=6.0>},\n",
       "             15: {'p_schedule': <tf.Tensor: shape=(), dtype=float32, numpy=6.0>},\n",
       "             16: {'p_schedule': <tf.Tensor: shape=(), dtype=float32, numpy=6.0>},\n",
       "             17: {'p_schedule': <tf.Tensor: shape=(), dtype=float32, numpy=6.0>},\n",
       "             18: {'p_schedule': <tf.Tensor: shape=(), dtype=float32, numpy=6.0>},\n",
       "             19: {'p_schedule': <tf.Tensor: shape=(), dtype=float32, numpy=6.0>}})"
      ]
     },
     "execution_count": 10,
     "metadata": {},
     "output_type": "execute_result"
    }
   ],
   "source": [
    "scheduled_parameters"
   ]
  },
  {
   "cell_type": "code",
   "execution_count": 19,
   "metadata": {},
   "outputs": [
    {
     "name": "stdout",
     "output_type": "stream",
     "text": [
      "Epoch 0, train_loss: 0.9460, train_accuracy: 0.3025, test_loss: 0.9173, test_accuracy: 0.4306\n",
      "Epoch 1, train_loss: 0.8928, train_accuracy: 0.6094, test_loss: 0.8738, test_accuracy: 0.6776\n",
      "Epoch 2, train_loss: 0.8732, train_accuracy: 0.7204, test_loss: 0.8688, test_accuracy: 0.7044\n",
      "Epoch 3, train_loss: 0.8670, train_accuracy: 0.7447, test_loss: 0.8643, test_accuracy: 0.7272\n",
      "Epoch 4, train_loss: 0.7240, train_accuracy: 0.7387, test_loss: 0.7287, test_accuracy: 0.6984\n",
      "Epoch 5, train_loss: 0.6620, train_accuracy: 0.8787, test_loss: 0.6563, test_accuracy: 0.8700\n",
      "Epoch 6, train_loss: 0.6320, train_accuracy: 0.9392, test_loss: 0.6473, test_accuracy: 0.8819\n",
      "Epoch 7, train_loss: 0.6233, train_accuracy: 0.9515, test_loss: 0.6428, test_accuracy: 0.8938\n",
      "Epoch 8, train_loss: 0.4454, train_accuracy: 0.9375, test_loss: 0.4796, test_accuracy: 0.8750\n",
      "Epoch 9, train_loss: 0.4272, train_accuracy: 0.9508, test_loss: 0.4593, test_accuracy: 0.9028\n",
      "Epoch 10, train_loss: 0.4191, train_accuracy: 0.9581, test_loss: 0.4591, test_accuracy: 0.8998\n",
      "Epoch 11, train_loss: 0.4158, train_accuracy: 0.9601, test_loss: 0.4526, test_accuracy: 0.9048\n",
      "Epoch 12, train_loss: 0.3289, train_accuracy: 0.9624, test_loss: 0.4164, test_accuracy: 0.8780\n",
      "Epoch 13, train_loss: 0.3340, train_accuracy: 0.9578, test_loss: 0.3987, test_accuracy: 0.8869\n",
      "Epoch 14, train_loss: 0.3179, train_accuracy: 0.9664, test_loss: 0.3856, test_accuracy: 0.9028\n",
      "Epoch 15, train_loss: 0.3239, train_accuracy: 0.9644, test_loss: 0.3704, test_accuracy: 0.9167\n",
      "Epoch 16, train_loss: 0.3144, train_accuracy: 0.9704, test_loss: 0.3795, test_accuracy: 0.9097\n",
      "Epoch 17, train_loss: 0.3095, train_accuracy: 0.9731, test_loss: 0.3622, test_accuracy: 0.9256\n",
      "Epoch 18, train_loss: 0.3060, train_accuracy: 0.9747, test_loss: 0.3577, test_accuracy: 0.9286\n",
      "Epoch 19, train_loss: 0.3055, train_accuracy: 0.9744, test_loss: 0.3691, test_accuracy: 0.9177\n"
     ]
    }
   ],
   "source": [
    "commons.train(\n",
    "    20,\n",
    "    metrics_dict,\n",
    "    ds_train,\n",
    "    ds_test,\n",
    "    train_step,\n",
    "    test_step,\n",
    "    scheduled_parameters=scheduled_parameters\n",
    ")"
   ]
  },
  {
   "attachments": {},
   "cell_type": "markdown",
   "metadata": {},
   "source": [
    "그래... 훈련은 됐는데 그래서 이게 어떻게 돌아가는 거지?\n",
    "\n",
    "개별 케이스로 통과시켜보자"
   ]
  },
  {
   "cell_type": "code",
   "execution_count": 21,
   "metadata": {},
   "outputs": [
    {
     "name": "stdout",
     "output_type": "stream",
     "text": [
      "Result label is 9\n"
     ]
    },
    {
     "data": {
      "image/png": "[encoded data removed]",
      "text/plain": [
       "<Figure size 640x480 with 2 Axes>"
      ]
     },
     "metadata": {},
     "output_type": "display_data"
    }
   ],
   "source": [
    "plt.subplot(121)\n",
    "plt.imshow(images_x[0][:,:,0])\n",
    "plt.subplot(122)\n",
    "plt.imshow(images_y[0][:,:,0])\n",
    "print(\"Result label is %i\" % labels_z[0])"
   ]
  },
  {
   "cell_type": "code",
   "execution_count": 39,
   "metadata": {},
   "outputs": [
    {
     "data": {
      "text/plain": [
       "<tf.Tensor: shape=(1,), dtype=int64, numpy=array([9], dtype=int64)>"
      ]
     },
     "execution_count": 39,
     "metadata": {},
     "output_type": "execute_result"
    }
   ],
   "source": [
    "x_hat = tf.argmax(logits_model([images_x[0].reshape(1, 28, 28, 1)]), axis=-1)\n",
    "y_hat = tf.argmax(logits_model([images_y[0].reshape(1, 28, 28, 1)]), axis=-1)\n",
    "z_hat = x_hat + y_hat\n",
    "z_hat"
   ]
  },
  {
   "cell_type": "code",
   "execution_count": 41,
   "metadata": {},
   "outputs": [
    {
     "data": {
      "text/plain": [
       "<tf.Tensor: shape=(1,), dtype=bool, numpy=array([ True])>"
      ]
     },
     "execution_count": 41,
     "metadata": {},
     "output_type": "execute_result"
    }
   ],
   "source": [
    "match = tf.equal(z_hat, tf.cast(labels_z[0], z_hat.dtype))\n",
    "match"
   ]
  },
  {
   "cell_type": "code",
   "execution_count": 42,
   "metadata": {},
   "outputs": [
    {
     "data": {
      "text/plain": [
       "<tf.Tensor: shape=(), dtype=float32, numpy=1.0>"
      ]
     },
     "execution_count": 42,
     "metadata": {},
     "output_type": "execute_result"
    }
   ],
   "source": [
    "tf.reduce_mean(tf.cast(match, tf.float32))"
   ]
  },
  {
   "attachments": {},
   "cell_type": "markdown",
   "metadata": {},
   "source": [
    "* logits_model이라는 클래스가 어떻게 굴러가는지 살펴보자\n",
    "\n",
    "        baselines.py"
   ]
  },
  {
   "cell_type": "code",
   "execution_count": 43,
   "metadata": {},
   "outputs": [],
   "source": [
    "# baselines.py\n",
    "\n",
    "from tensorflow.keras import layers\n",
    "\n",
    "class MNISTConv(tf.keras.Model):\n",
    "    # CNN that returns linear embeddings for MNIST images\n",
    "    \n",
    "    def __init__(self, hidden_conv_filters=(6, 16), kernel_size=(5, 5), hidden_dense_sizes=(100, )):\n",
    "        super(MNISTConv, self).__init__()\n",
    "        self.convs = [layers.Conv2D(f, k, activation=\"elu\") for f, k in zip(hidden_conv_filters, kernel_size)] # (6, 5) (16, 5)?\n",
    "        self.maxpool = layers.MaxPool2D((2, 2))\n",
    "        self.flatten = layers.Flatten()\n",
    "        self.denses = [layers.Dense(s, activation=\"elu\") for s in hidden_dense_sizes]\n",
    "    \n",
    "    def call(self, x):\n",
    "        for conv in self.convs:\n",
    "            x = conv(x)\n",
    "            x = self.maxpool(x)\n",
    "        x = self.flatten(x)\n",
    "        for dense in self.denses:\n",
    "            x = dense(x)\n",
    "        return x"
   ]
  },
  {
   "cell_type": "code",
   "execution_count": 49,
   "metadata": {},
   "outputs": [],
   "source": [
    "x = images_x[0].reshape(1, 28, 28, 1)\n",
    "y = images_y[0].reshape(1, 28, 28, 1)\n",
    "layer_Conv = MNISTConv()"
   ]
  },
  {
   "cell_type": "code",
   "execution_count": 50,
   "metadata": {},
   "outputs": [
    {
     "name": "stdout",
     "output_type": "stream",
     "text": [
      "Shape after 0th Conv layer: (1, 24, 24, 6)\n",
      "Shape after 0th Maxpooling: (1, 12, 12, 6)\n",
      "Shape after 1th Conv layer: (1, 8, 8, 16)\n",
      "Shape after 1th Maxpooling: (1, 4, 4, 16)\n",
      "\n",
      "Shape after flatten: (1, 256)\n",
      "\n",
      "Shape after 0th Dense layer: (1, 100)\n",
      "\n",
      "Final Shape: (1, 100)\n"
     ]
    }
   ],
   "source": [
    "for i, conv in enumerate(layer_Conv.convs):\n",
    "    x = conv(x)\n",
    "    print(f\"Shape after {i}th Conv layer: {x.shape}\")\n",
    "    x = layer_Conv.maxpool(x)\n",
    "    print(f\"Shape after {i}th Maxpooling: {x.shape}\")\n",
    "print(\"\")\n",
    "\n",
    "x = layer_Conv.flatten(x)\n",
    "print(f\"Shape after flatten: {x.shape}\")\n",
    "print(\"\")\n",
    "\n",
    "for i, dense in enumerate(layer_Conv.denses):\n",
    "    x = dense(x)\n",
    "    print(f\"Shape after {i}th Dense layer: {x.shape}\")\n",
    "print(\"\")\n",
    "\n",
    "print(f\"Final Shape: {x.shape}\")"
   ]
  },
  {
   "cell_type": "code",
   "execution_count": null,
   "metadata": {},
   "outputs": [],
   "source": [
    "class SingleDigit(tf.keras.Model):\n",
    "    # Model classifying one digit image into 10 possible classes.\n",
    "\n",
    "    def __init__(self, hidden_dense_sizes=(84,), inputs_as_a_list=False):\n",
    "        super(SingleDigit, self).__init__()\n",
    "        self.mnistconv = MNISTConv()\n",
    "        self.denses = [layers.Dense(s, activation=\"elu\") for s in hidden_dense_sizes]\n",
    "        self.dense_class = layers.Dense(10)\n",
    "        self.inputs_as_list = inputs_as_a_list\n",
    "    \n",
    "    def call(self, inputs):\n",
    "        x = inputs if not self.inputs_as_list else inputs[0]\n",
    "        x = self.mnistconv(x) # (#, 28, 28, 1) -> (#, 100)\n",
    "        for dense in self.denses:\n",
    "            x = dense(x) # (#, 100) -> (#, 84)\n",
    "        x = self.dense_class(x) # (#, 84) -> (#, 10)\n",
    "        return x"
   ]
  },
  {
   "attachments": {},
   "cell_type": "markdown",
   "metadata": {},
   "source": [
    "그냥 CNN의 Convolutional Layer 뒤에 Dense 두 개 붙인, 조금 깊은 CNN?\n",
    "\n",
    "아무래도 logits_model은 그냥 숫자를 인식해서 ltn으로 던져주는 역할만 하는 듯\n",
    "\n",
    "그럼 logical하게 \"아 얘가 이 두 숫자를 더한 걸 return해주길 원하는구나!를 인식하는 부분이 어디인거지\n",
    "\n",
    "        single_digits_addition.ipynb"
   ]
  },
  {
   "cell_type": "code",
   "execution_count": 53,
   "metadata": {},
   "outputs": [],
   "source": [
    "Digit = ltn.Predicate.FromLogits(logits_model, activation_function=\"softmax\")\n",
    "\n",
    "d1 = ltn.Variable(\"digits1\", range(10))\n",
    "d2 = ltn.Variable(\"digits2\", range(10))\n",
    "\n",
    "Not = ltn.Wrapper_Connective(ltn.fuzzy_ops.Not_Std())\n",
    "And = ltn.Wrapper_Connective(ltn.fuzzy_ops.And_Prod())\n",
    "Or = ltn.Wrapper_Connective(ltn.fuzzy_ops.Or_ProbSum())\n",
    "Implies = ltn.Wrapper_Connective(ltn.fuzzy_ops.Implies_Reichenbach())\n",
    "Forall = ltn.Wrapper_Quantifier(ltn.fuzzy_ops.Aggreg_pMeanError(), semantics=\"forall\")\n",
    "Exists = ltn.Wrapper_Quantifier(ltn.fuzzy_ops.Aggreg_pMean(), semantics=\"exists\")\n",
    "\n",
    "add = ltn.Function.Lambda(lambda inputs: inputs[0]+inputs[1])\n",
    "equals = ltn.Predicate.Lambda(lambda inputs: inputs[0] == inputs[1])"
   ]
  },
  {
   "cell_type": "code",
   "execution_count": null,
   "metadata": {},
   "outputs": [],
   "source": [
    "@tf.function\n",
    "def axioms(images_x, images_y, lab)"
   ]
  }
 ],
 "metadata": {
  "kernelspec": {
   "display_name": "LTN",
   "language": "python",
   "name": "python3"
  },
  "language_info": {
   "codemirror_mode": {
    "name": "ipython",
    "version": 3
   },
   "file_extension": ".py",
   "mimetype": "text/x-python",
   "name": "python",
   "nbconvert_exporter": "python",
   "pygments_lexer": "ipython3",
   "version": "3.8.16"
  },
  "orig_nbformat": 4
 },
 "nbformat": 4,
 "nbformat_minor": 2
}
